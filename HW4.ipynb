{
 "cells": [
  {
   "cell_type": "code",
   "execution_count": null,
   "id": "4f04dc60-5d88-4908-ae1c-cbf987dee6d4",
   "metadata": {},
   "outputs": [],
   "source": []
  }
 ],
 "metadata": {
  "kernelspec": {
   "display_name": "",
   "name": ""
  },
  "language_info": {
   "name": ""
  }
 },
 "nbformat": 4,
 "nbformat_minor": 5
}
